{
  "nbformat": 4,
  "nbformat_minor": 0,
  "metadata": {
    "kernelspec": {
      "display_name": "Python 3",
      "language": "python",
      "name": "python3"
    },
    "language_info": {
      "codemirror_mode": {
        "name": "ipython",
        "version": 3
      },
      "file_extension": ".py",
      "mimetype": "text/x-python",
      "name": "python",
      "nbconvert_exporter": "python",
      "pygments_lexer": "ipython3",
      "version": "3.6.5"
    },
    "colab": {
      "name": "House Prices Regression Techniques-Improved.ipynb",
      "provenance": [],
      "collapsed_sections": [],
      "include_colab_link": true
    }
  },
  "cells": [
    {
      "cell_type": "markdown",
      "metadata": {
        "id": "view-in-github",
        "colab_type": "text"
      },
      "source": [
        "<a href=\"https://colab.research.google.com/github/mohnishverma87/data-science-foundations/blob/master/House_Prices_Regression_Techniques_Improved.ipynb\" target=\"_parent\"><img src=\"https://colab.research.google.com/assets/colab-badge.svg\" alt=\"Open In Colab\"/></a>"
      ]
    },
    {
      "cell_type": "code",
      "metadata": {
        "id": "0SzE_vQQU0W6",
        "colab_type": "code",
        "colab": {
          "base_uri": "https://localhost:8080/",
          "height": 118
        },
        "outputId": "fbd73417-bd91-4b7d-bbb6-afb73ad3fe66"
      },
      "source": [
        "! git clone https://github.com/mohnishverma87/PGPAIML.git"
      ],
      "execution_count": 73,
      "outputs": [
        {
          "output_type": "stream",
          "text": [
            "Cloning into 'PGPAIML'...\n",
            "remote: Enumerating objects: 3, done.\u001b[K\n",
            "remote: Counting objects: 100% (3/3), done.\u001b[K\n",
            "remote: Compressing objects: 100% (2/2), done.\u001b[K\n",
            "remote: Total 3 (delta 0), reused 0 (delta 0), pack-reused 0\u001b[K\n",
            "Unpacking objects: 100% (3/3), done.\n"
          ],
          "name": "stdout"
        }
      ]
    },
    {
      "cell_type": "code",
      "metadata": {
        "id": "isqb1tFdwi-s",
        "colab_type": "code",
        "outputId": "f78442f7-05a3-43a8-bfc9-55d335f7eed8",
        "colab": {
          "base_uri": "https://localhost:8080/",
          "height": 34
        }
      },
      "source": [
        "from google.colab import drive\n",
        "drive.mount('/content/drive')"
      ],
      "execution_count": 8,
      "outputs": [
        {
          "output_type": "stream",
          "text": [
            "Drive already mounted at /content/drive; to attempt to forcibly remount, call drive.mount(\"/content/drive\", force_remount=True).\n"
          ],
          "name": "stdout"
        }
      ]
    },
    {
      "cell_type": "code",
      "metadata": {
        "_cell_guid": "b1076dfc-b9ad-4769-8c92-a6c4dae69d19",
        "_uuid": "8f2839f25d086af736a60e9eeb907d3b93b6e0e5",
        "id": "JgDHrEYQj1T0",
        "colab_type": "code",
        "colab": {}
      },
      "source": [
        "# This Python 3 environment comes with many helpful analytics libraries installed\n",
        "# It is defined by the kaggle/python docker image: https://github.com/kaggle/docker-python\n",
        "# For example, here's several helpful packages to load in \n",
        "\n",
        "import math\n",
        "import numpy as np # linear algebra\n",
        "import pandas as pd # data processing, CSV file I/O (e.g. pd.read_csv)\n",
        "import matplotlib.pyplot as plt\n",
        "import seaborn as sns\n",
        "sns.set(style='darkgrid')\n",
        "\n",
        "from sklearn import metrics\n",
        "from sklearn.metrics import mean_squared_log_error\n",
        "#from sklearn.metrics import \n",
        "\n",
        "# Input data files are available in the \"../input/\" directory.\n",
        "# For example, running this (by clicking run or pressing Shift+Enter) will list the files in the input directory\n",
        "\n",
        "import os\n",
        "# print(os.listdir(\"../Documents\\ForDataScience\\MachineLearning\\Practice\\Dataset\\Housing-Competition\"))\n",
        "\n",
        "# Any results you write to the current directory are saved as output."
      ],
      "execution_count": 0,
      "outputs": []
    },
    {
      "cell_type": "markdown",
      "metadata": {
        "id": "u8OqO1UBuVfC",
        "colab_type": "text"
      },
      "source": [
        "# New Section"
      ]
    },
    {
      "cell_type": "code",
      "metadata": {
        "_uuid": "ad03129ed177607a54d7511720a63621674e4a9d",
        "id": "EGyn0m2sj1T5",
        "colab_type": "code",
        "outputId": "6fbcd19e-31d5-4659-e73a-57660b5d749a",
        "colab": {
          "base_uri": "https://localhost:8080/",
          "height": 162
        }
      },
      "source": [
        "evaluation=evaluation.truncate(before=-1, after=-1)"
      ],
      "execution_count": 10,
      "outputs": [
        {
          "output_type": "error",
          "ename": "NameError",
          "evalue": "ignored",
          "traceback": [
            "\u001b[0;31m---------------------------------------------------------------------------\u001b[0m",
            "\u001b[0;31mNameError\u001b[0m                                 Traceback (most recent call last)",
            "\u001b[0;32m<ipython-input-10-fe3d0fe80578>\u001b[0m in \u001b[0;36m<module>\u001b[0;34m()\u001b[0m\n\u001b[0;32m----> 1\u001b[0;31m \u001b[0mevaluation\u001b[0m\u001b[0;34m=\u001b[0m\u001b[0mevaluation\u001b[0m\u001b[0;34m.\u001b[0m\u001b[0mtruncate\u001b[0m\u001b[0;34m(\u001b[0m\u001b[0mbefore\u001b[0m\u001b[0;34m=\u001b[0m\u001b[0;34m-\u001b[0m\u001b[0;36m1\u001b[0m\u001b[0;34m,\u001b[0m \u001b[0mafter\u001b[0m\u001b[0;34m=\u001b[0m\u001b[0;34m-\u001b[0m\u001b[0;36m1\u001b[0m\u001b[0;34m)\u001b[0m\u001b[0;34m\u001b[0m\u001b[0;34m\u001b[0m\u001b[0m\n\u001b[0m",
            "\u001b[0;31mNameError\u001b[0m: name 'evaluation' is not defined"
          ]
        }
      ]
    },
    {
      "cell_type": "code",
      "metadata": {
        "_uuid": "e62052e6dc931b093b43859bc379738af7b72f86",
        "id": "pVOvOKh1j1T9",
        "colab_type": "code",
        "outputId": "ab5854ae-d754-45c0-d5a5-3965429787db",
        "colab": {
          "base_uri": "https://localhost:8080/",
          "height": 47
        }
      },
      "source": [
        "evaluation = pd.DataFrame({\"Model\":[],\"Details\":[],\"RMSE\":[],\"R2-train\":[],\"Adj-R2-train\":[],\"R2-test\":[],\"Adj-R2-test\":[],\"RMSLE\":[],\"VARIANCE\":[]})\n",
        "evaluation"
      ],
      "execution_count": 11,
      "outputs": [
        {
          "output_type": "execute_result",
          "data": {
            "text/html": [
              "<div>\n",
              "<style scoped>\n",
              "    .dataframe tbody tr th:only-of-type {\n",
              "        vertical-align: middle;\n",
              "    }\n",
              "\n",
              "    .dataframe tbody tr th {\n",
              "        vertical-align: top;\n",
              "    }\n",
              "\n",
              "    .dataframe thead th {\n",
              "        text-align: right;\n",
              "    }\n",
              "</style>\n",
              "<table border=\"1\" class=\"dataframe\">\n",
              "  <thead>\n",
              "    <tr style=\"text-align: right;\">\n",
              "      <th></th>\n",
              "      <th>Model</th>\n",
              "      <th>Details</th>\n",
              "      <th>RMSE</th>\n",
              "      <th>R2-train</th>\n",
              "      <th>Adj-R2-train</th>\n",
              "      <th>R2-test</th>\n",
              "      <th>Adj-R2-test</th>\n",
              "      <th>RMSLE</th>\n",
              "      <th>VARIANCE</th>\n",
              "    </tr>\n",
              "  </thead>\n",
              "  <tbody>\n",
              "  </tbody>\n",
              "</table>\n",
              "</div>"
            ],
            "text/plain": [
              "Empty DataFrame\n",
              "Columns: [Model, Details, RMSE, R2-train, Adj-R2-train, R2-test, Adj-R2-test, RMSLE, VARIANCE]\n",
              "Index: []"
            ]
          },
          "metadata": {
            "tags": []
          },
          "execution_count": 11
        }
      ]
    },
    {
      "cell_type": "markdown",
      "metadata": {
        "_uuid": "d86f54380e70a91203cd14bff12c262b355da3dc",
        "id": "l-4MICR3j1UA",
        "colab_type": "text"
      },
      "source": [
        "EDA\n",
        "1. Load the dataset.\n",
        "2. Find Num and Categorical variables.\n",
        "3. Find Most correlated variables with target feature.\n",
        "4. Handle missing data of the most important features. \n",
        "5. Remove any Numerically categorical variable by keeping them in diff list for further addition in model(as of now).\n",
        "6. Handle the interrelated correlated variables.\n",
        "7. Apart from ID, check the skewness of the varibales, if they found, handle them."
      ]
    },
    {
      "cell_type": "code",
      "metadata": {
        "_cell_guid": "79c7e3d0-c299-4dcb-8224-4455121ee9b0",
        "_uuid": "d629ff2d2480ee46fbb7e2d37f6b5fab8052498a",
        "id": "-4564asMj1UB",
        "colab_type": "code",
        "outputId": "170d5a37-6449-41d0-cdfc-021121c4fb94",
        "colab": {
          "base_uri": "https://localhost:8080/",
          "height": 34
        }
      },
      "source": [
        "#1 LOADING THE TRAINING DATA\n",
        "dataset = pd.read_csv('/content/drive/My Drive/Colab Notebooks/Data/Housing-Competition/train.csv')\n",
        "test_dataset = pd.read_csv('/content/drive/My Drive/Colab Notebooks/Data/Housing-Competition/test.csv')\n",
        "#check for duplicates for Id\n",
        "idsUnique = len(set(dataset.Id))\n",
        "idsTotal = dataset.shape[0]\n",
        "idsdupe = idsTotal - idsUnique\n",
        "print(idsdupe)\n",
        "#drop id col\n",
        "#train.drop(['Id'],axis =1,inplace=True)"
      ],
      "execution_count": 12,
      "outputs": [
        {
          "output_type": "stream",
          "text": [
            "0\n"
          ],
          "name": "stdout"
        }
      ]
    },
    {
      "cell_type": "code",
      "metadata": {
        "_uuid": "6d305531588bbba2784a7dcf239b2583041808df",
        "id": "Xt28S6xgj1UE",
        "colab_type": "code",
        "outputId": "c05f2d6e-24aa-4329-8123-92f1eb25c435",
        "colab": {
          "base_uri": "https://localhost:8080/",
          "height": 244
        }
      },
      "source": [
        "dataset.head()"
      ],
      "execution_count": 13,
      "outputs": [
        {
          "output_type": "execute_result",
          "data": {
            "text/html": [
              "<div>\n",
              "<style scoped>\n",
              "    .dataframe tbody tr th:only-of-type {\n",
              "        vertical-align: middle;\n",
              "    }\n",
              "\n",
              "    .dataframe tbody tr th {\n",
              "        vertical-align: top;\n",
              "    }\n",
              "\n",
              "    .dataframe thead th {\n",
              "        text-align: right;\n",
              "    }\n",
              "</style>\n",
              "<table border=\"1\" class=\"dataframe\">\n",
              "  <thead>\n",
              "    <tr style=\"text-align: right;\">\n",
              "      <th></th>\n",
              "      <th>Id</th>\n",
              "      <th>MSSubClass</th>\n",
              "      <th>MSZoning</th>\n",
              "      <th>LotFrontage</th>\n",
              "      <th>LotArea</th>\n",
              "      <th>Street</th>\n",
              "      <th>Alley</th>\n",
              "      <th>LotShape</th>\n",
              "      <th>LandContour</th>\n",
              "      <th>Utilities</th>\n",
              "      <th>LotConfig</th>\n",
              "      <th>LandSlope</th>\n",
              "      <th>Neighborhood</th>\n",
              "      <th>Condition1</th>\n",
              "      <th>Condition2</th>\n",
              "      <th>BldgType</th>\n",
              "      <th>HouseStyle</th>\n",
              "      <th>OverallQual</th>\n",
              "      <th>OverallCond</th>\n",
              "      <th>YearBuilt</th>\n",
              "      <th>YearRemodAdd</th>\n",
              "      <th>RoofStyle</th>\n",
              "      <th>RoofMatl</th>\n",
              "      <th>Exterior1st</th>\n",
              "      <th>Exterior2nd</th>\n",
              "      <th>MasVnrType</th>\n",
              "      <th>MasVnrArea</th>\n",
              "      <th>ExterQual</th>\n",
              "      <th>ExterCond</th>\n",
              "      <th>Foundation</th>\n",
              "      <th>BsmtQual</th>\n",
              "      <th>BsmtCond</th>\n",
              "      <th>BsmtExposure</th>\n",
              "      <th>BsmtFinType1</th>\n",
              "      <th>BsmtFinSF1</th>\n",
              "      <th>BsmtFinType2</th>\n",
              "      <th>BsmtFinSF2</th>\n",
              "      <th>BsmtUnfSF</th>\n",
              "      <th>TotalBsmtSF</th>\n",
              "      <th>Heating</th>\n",
              "      <th>...</th>\n",
              "      <th>CentralAir</th>\n",
              "      <th>Electrical</th>\n",
              "      <th>1stFlrSF</th>\n",
              "      <th>2ndFlrSF</th>\n",
              "      <th>LowQualFinSF</th>\n",
              "      <th>GrLivArea</th>\n",
              "      <th>BsmtFullBath</th>\n",
              "      <th>BsmtHalfBath</th>\n",
              "      <th>FullBath</th>\n",
              "      <th>HalfBath</th>\n",
              "      <th>BedroomAbvGr</th>\n",
              "      <th>KitchenAbvGr</th>\n",
              "      <th>KitchenQual</th>\n",
              "      <th>TotRmsAbvGrd</th>\n",
              "      <th>Functional</th>\n",
              "      <th>Fireplaces</th>\n",
              "      <th>FireplaceQu</th>\n",
              "      <th>GarageType</th>\n",
              "      <th>GarageYrBlt</th>\n",
              "      <th>GarageFinish</th>\n",
              "      <th>GarageCars</th>\n",
              "      <th>GarageArea</th>\n",
              "      <th>GarageQual</th>\n",
              "      <th>GarageCond</th>\n",
              "      <th>PavedDrive</th>\n",
              "      <th>WoodDeckSF</th>\n",
              "      <th>OpenPorchSF</th>\n",
              "      <th>EnclosedPorch</th>\n",
              "      <th>3SsnPorch</th>\n",
              "      <th>ScreenPorch</th>\n",
              "      <th>PoolArea</th>\n",
              "      <th>PoolQC</th>\n",
              "      <th>Fence</th>\n",
              "      <th>MiscFeature</th>\n",
              "      <th>MiscVal</th>\n",
              "      <th>MoSold</th>\n",
              "      <th>YrSold</th>\n",
              "      <th>SaleType</th>\n",
              "      <th>SaleCondition</th>\n",
              "      <th>SalePrice</th>\n",
              "    </tr>\n",
              "  </thead>\n",
              "  <tbody>\n",
              "    <tr>\n",
              "      <th>0</th>\n",
              "      <td>1</td>\n",
              "      <td>60</td>\n",
              "      <td>RL</td>\n",
              "      <td>65.0</td>\n",
              "      <td>8450</td>\n",
              "      <td>Pave</td>\n",
              "      <td>NaN</td>\n",
              "      <td>Reg</td>\n",
              "      <td>Lvl</td>\n",
              "      <td>AllPub</td>\n",
              "      <td>Inside</td>\n",
              "      <td>Gtl</td>\n",
              "      <td>CollgCr</td>\n",
              "      <td>Norm</td>\n",
              "      <td>Norm</td>\n",
              "      <td>1Fam</td>\n",
              "      <td>2Story</td>\n",
              "      <td>7</td>\n",
              "      <td>5</td>\n",
              "      <td>2003</td>\n",
              "      <td>2003</td>\n",
              "      <td>Gable</td>\n",
              "      <td>CompShg</td>\n",
              "      <td>VinylSd</td>\n",
              "      <td>VinylSd</td>\n",
              "      <td>BrkFace</td>\n",
              "      <td>196.0</td>\n",
              "      <td>Gd</td>\n",
              "      <td>TA</td>\n",
              "      <td>PConc</td>\n",
              "      <td>Gd</td>\n",
              "      <td>TA</td>\n",
              "      <td>No</td>\n",
              "      <td>GLQ</td>\n",
              "      <td>706</td>\n",
              "      <td>Unf</td>\n",
              "      <td>0</td>\n",
              "      <td>150</td>\n",
              "      <td>856</td>\n",
              "      <td>GasA</td>\n",
              "      <td>...</td>\n",
              "      <td>Y</td>\n",
              "      <td>SBrkr</td>\n",
              "      <td>856</td>\n",
              "      <td>854</td>\n",
              "      <td>0</td>\n",
              "      <td>1710</td>\n",
              "      <td>1</td>\n",
              "      <td>0</td>\n",
              "      <td>2</td>\n",
              "      <td>1</td>\n",
              "      <td>3</td>\n",
              "      <td>1</td>\n",
              "      <td>Gd</td>\n",
              "      <td>8</td>\n",
              "      <td>Typ</td>\n",
              "      <td>0</td>\n",
              "      <td>NaN</td>\n",
              "      <td>Attchd</td>\n",
              "      <td>2003.0</td>\n",
              "      <td>RFn</td>\n",
              "      <td>2</td>\n",
              "      <td>548</td>\n",
              "      <td>TA</td>\n",
              "      <td>TA</td>\n",
              "      <td>Y</td>\n",
              "      <td>0</td>\n",
              "      <td>61</td>\n",
              "      <td>0</td>\n",
              "      <td>0</td>\n",
              "      <td>0</td>\n",
              "      <td>0</td>\n",
              "      <td>NaN</td>\n",
              "      <td>NaN</td>\n",
              "      <td>NaN</td>\n",
              "      <td>0</td>\n",
              "      <td>2</td>\n",
              "      <td>2008</td>\n",
              "      <td>WD</td>\n",
              "      <td>Normal</td>\n",
              "      <td>208500</td>\n",
              "    </tr>\n",
              "    <tr>\n",
              "      <th>1</th>\n",
              "      <td>2</td>\n",
              "      <td>20</td>\n",
              "      <td>RL</td>\n",
              "      <td>80.0</td>\n",
              "      <td>9600</td>\n",
              "      <td>Pave</td>\n",
              "      <td>NaN</td>\n",
              "      <td>Reg</td>\n",
              "      <td>Lvl</td>\n",
              "      <td>AllPub</td>\n",
              "      <td>FR2</td>\n",
              "      <td>Gtl</td>\n",
              "      <td>Veenker</td>\n",
              "      <td>Feedr</td>\n",
              "      <td>Norm</td>\n",
              "      <td>1Fam</td>\n",
              "      <td>1Story</td>\n",
              "      <td>6</td>\n",
              "      <td>8</td>\n",
              "      <td>1976</td>\n",
              "      <td>1976</td>\n",
              "      <td>Gable</td>\n",
              "      <td>CompShg</td>\n",
              "      <td>MetalSd</td>\n",
              "      <td>MetalSd</td>\n",
              "      <td>None</td>\n",
              "      <td>0.0</td>\n",
              "      <td>TA</td>\n",
              "      <td>TA</td>\n",
              "      <td>CBlock</td>\n",
              "      <td>Gd</td>\n",
              "      <td>TA</td>\n",
              "      <td>Gd</td>\n",
              "      <td>ALQ</td>\n",
              "      <td>978</td>\n",
              "      <td>Unf</td>\n",
              "      <td>0</td>\n",
              "      <td>284</td>\n",
              "      <td>1262</td>\n",
              "      <td>GasA</td>\n",
              "      <td>...</td>\n",
              "      <td>Y</td>\n",
              "      <td>SBrkr</td>\n",
              "      <td>1262</td>\n",
              "      <td>0</td>\n",
              "      <td>0</td>\n",
              "      <td>1262</td>\n",
              "      <td>0</td>\n",
              "      <td>1</td>\n",
              "      <td>2</td>\n",
              "      <td>0</td>\n",
              "      <td>3</td>\n",
              "      <td>1</td>\n",
              "      <td>TA</td>\n",
              "      <td>6</td>\n",
              "      <td>Typ</td>\n",
              "      <td>1</td>\n",
              "      <td>TA</td>\n",
              "      <td>Attchd</td>\n",
              "      <td>1976.0</td>\n",
              "      <td>RFn</td>\n",
              "      <td>2</td>\n",
              "      <td>460</td>\n",
              "      <td>TA</td>\n",
              "      <td>TA</td>\n",
              "      <td>Y</td>\n",
              "      <td>298</td>\n",
              "      <td>0</td>\n",
              "      <td>0</td>\n",
              "      <td>0</td>\n",
              "      <td>0</td>\n",
              "      <td>0</td>\n",
              "      <td>NaN</td>\n",
              "      <td>NaN</td>\n",
              "      <td>NaN</td>\n",
              "      <td>0</td>\n",
              "      <td>5</td>\n",
              "      <td>2007</td>\n",
              "      <td>WD</td>\n",
              "      <td>Normal</td>\n",
              "      <td>181500</td>\n",
              "    </tr>\n",
              "    <tr>\n",
              "      <th>2</th>\n",
              "      <td>3</td>\n",
              "      <td>60</td>\n",
              "      <td>RL</td>\n",
              "      <td>68.0</td>\n",
              "      <td>11250</td>\n",
              "      <td>Pave</td>\n",
              "      <td>NaN</td>\n",
              "      <td>IR1</td>\n",
              "      <td>Lvl</td>\n",
              "      <td>AllPub</td>\n",
              "      <td>Inside</td>\n",
              "      <td>Gtl</td>\n",
              "      <td>CollgCr</td>\n",
              "      <td>Norm</td>\n",
              "      <td>Norm</td>\n",
              "      <td>1Fam</td>\n",
              "      <td>2Story</td>\n",
              "      <td>7</td>\n",
              "      <td>5</td>\n",
              "      <td>2001</td>\n",
              "      <td>2002</td>\n",
              "      <td>Gable</td>\n",
              "      <td>CompShg</td>\n",
              "      <td>VinylSd</td>\n",
              "      <td>VinylSd</td>\n",
              "      <td>BrkFace</td>\n",
              "      <td>162.0</td>\n",
              "      <td>Gd</td>\n",
              "      <td>TA</td>\n",
              "      <td>PConc</td>\n",
              "      <td>Gd</td>\n",
              "      <td>TA</td>\n",
              "      <td>Mn</td>\n",
              "      <td>GLQ</td>\n",
              "      <td>486</td>\n",
              "      <td>Unf</td>\n",
              "      <td>0</td>\n",
              "      <td>434</td>\n",
              "      <td>920</td>\n",
              "      <td>GasA</td>\n",
              "      <td>...</td>\n",
              "      <td>Y</td>\n",
              "      <td>SBrkr</td>\n",
              "      <td>920</td>\n",
              "      <td>866</td>\n",
              "      <td>0</td>\n",
              "      <td>1786</td>\n",
              "      <td>1</td>\n",
              "      <td>0</td>\n",
              "      <td>2</td>\n",
              "      <td>1</td>\n",
              "      <td>3</td>\n",
              "      <td>1</td>\n",
              "      <td>Gd</td>\n",
              "      <td>6</td>\n",
              "      <td>Typ</td>\n",
              "      <td>1</td>\n",
              "      <td>TA</td>\n",
              "      <td>Attchd</td>\n",
              "      <td>2001.0</td>\n",
              "      <td>RFn</td>\n",
              "      <td>2</td>\n",
              "      <td>608</td>\n",
              "      <td>TA</td>\n",
              "      <td>TA</td>\n",
              "      <td>Y</td>\n",
              "      <td>0</td>\n",
              "      <td>42</td>\n",
              "      <td>0</td>\n",
              "      <td>0</td>\n",
              "      <td>0</td>\n",
              "      <td>0</td>\n",
              "      <td>NaN</td>\n",
              "      <td>NaN</td>\n",
              "      <td>NaN</td>\n",
              "      <td>0</td>\n",
              "      <td>9</td>\n",
              "      <td>2008</td>\n",
              "      <td>WD</td>\n",
              "      <td>Normal</td>\n",
              "      <td>223500</td>\n",
              "    </tr>\n",
              "    <tr>\n",
              "      <th>3</th>\n",
              "      <td>4</td>\n",
              "      <td>70</td>\n",
              "      <td>RL</td>\n",
              "      <td>60.0</td>\n",
              "      <td>9550</td>\n",
              "      <td>Pave</td>\n",
              "      <td>NaN</td>\n",
              "      <td>IR1</td>\n",
              "      <td>Lvl</td>\n",
              "      <td>AllPub</td>\n",
              "      <td>Corner</td>\n",
              "      <td>Gtl</td>\n",
              "      <td>Crawfor</td>\n",
              "      <td>Norm</td>\n",
              "      <td>Norm</td>\n",
              "      <td>1Fam</td>\n",
              "      <td>2Story</td>\n",
              "      <td>7</td>\n",
              "      <td>5</td>\n",
              "      <td>1915</td>\n",
              "      <td>1970</td>\n",
              "      <td>Gable</td>\n",
              "      <td>CompShg</td>\n",
              "      <td>Wd Sdng</td>\n",
              "      <td>Wd Shng</td>\n",
              "      <td>None</td>\n",
              "      <td>0.0</td>\n",
              "      <td>TA</td>\n",
              "      <td>TA</td>\n",
              "      <td>BrkTil</td>\n",
              "      <td>TA</td>\n",
              "      <td>Gd</td>\n",
              "      <td>No</td>\n",
              "      <td>ALQ</td>\n",
              "      <td>216</td>\n",
              "      <td>Unf</td>\n",
              "      <td>0</td>\n",
              "      <td>540</td>\n",
              "      <td>756</td>\n",
              "      <td>GasA</td>\n",
              "      <td>...</td>\n",
              "      <td>Y</td>\n",
              "      <td>SBrkr</td>\n",
              "      <td>961</td>\n",
              "      <td>756</td>\n",
              "      <td>0</td>\n",
              "      <td>1717</td>\n",
              "      <td>1</td>\n",
              "      <td>0</td>\n",
              "      <td>1</td>\n",
              "      <td>0</td>\n",
              "      <td>3</td>\n",
              "      <td>1</td>\n",
              "      <td>Gd</td>\n",
              "      <td>7</td>\n",
              "      <td>Typ</td>\n",
              "      <td>1</td>\n",
              "      <td>Gd</td>\n",
              "      <td>Detchd</td>\n",
              "      <td>1998.0</td>\n",
              "      <td>Unf</td>\n",
              "      <td>3</td>\n",
              "      <td>642</td>\n",
              "      <td>TA</td>\n",
              "      <td>TA</td>\n",
              "      <td>Y</td>\n",
              "      <td>0</td>\n",
              "      <td>35</td>\n",
              "      <td>272</td>\n",
              "      <td>0</td>\n",
              "      <td>0</td>\n",
              "      <td>0</td>\n",
              "      <td>NaN</td>\n",
              "      <td>NaN</td>\n",
              "      <td>NaN</td>\n",
              "      <td>0</td>\n",
              "      <td>2</td>\n",
              "      <td>2006</td>\n",
              "      <td>WD</td>\n",
              "      <td>Abnorml</td>\n",
              "      <td>140000</td>\n",
              "    </tr>\n",
              "    <tr>\n",
              "      <th>4</th>\n",
              "      <td>5</td>\n",
              "      <td>60</td>\n",
              "      <td>RL</td>\n",
              "      <td>84.0</td>\n",
              "      <td>14260</td>\n",
              "      <td>Pave</td>\n",
              "      <td>NaN</td>\n",
              "      <td>IR1</td>\n",
              "      <td>Lvl</td>\n",
              "      <td>AllPub</td>\n",
              "      <td>FR2</td>\n",
              "      <td>Gtl</td>\n",
              "      <td>NoRidge</td>\n",
              "      <td>Norm</td>\n",
              "      <td>Norm</td>\n",
              "      <td>1Fam</td>\n",
              "      <td>2Story</td>\n",
              "      <td>8</td>\n",
              "      <td>5</td>\n",
              "      <td>2000</td>\n",
              "      <td>2000</td>\n",
              "      <td>Gable</td>\n",
              "      <td>CompShg</td>\n",
              "      <td>VinylSd</td>\n",
              "      <td>VinylSd</td>\n",
              "      <td>BrkFace</td>\n",
              "      <td>350.0</td>\n",
              "      <td>Gd</td>\n",
              "      <td>TA</td>\n",
              "      <td>PConc</td>\n",
              "      <td>Gd</td>\n",
              "      <td>TA</td>\n",
              "      <td>Av</td>\n",
              "      <td>GLQ</td>\n",
              "      <td>655</td>\n",
              "      <td>Unf</td>\n",
              "      <td>0</td>\n",
              "      <td>490</td>\n",
              "      <td>1145</td>\n",
              "      <td>GasA</td>\n",
              "      <td>...</td>\n",
              "      <td>Y</td>\n",
              "      <td>SBrkr</td>\n",
              "      <td>1145</td>\n",
              "      <td>1053</td>\n",
              "      <td>0</td>\n",
              "      <td>2198</td>\n",
              "      <td>1</td>\n",
              "      <td>0</td>\n",
              "      <td>2</td>\n",
              "      <td>1</td>\n",
              "      <td>4</td>\n",
              "      <td>1</td>\n",
              "      <td>Gd</td>\n",
              "      <td>9</td>\n",
              "      <td>Typ</td>\n",
              "      <td>1</td>\n",
              "      <td>TA</td>\n",
              "      <td>Attchd</td>\n",
              "      <td>2000.0</td>\n",
              "      <td>RFn</td>\n",
              "      <td>3</td>\n",
              "      <td>836</td>\n",
              "      <td>TA</td>\n",
              "      <td>TA</td>\n",
              "      <td>Y</td>\n",
              "      <td>192</td>\n",
              "      <td>84</td>\n",
              "      <td>0</td>\n",
              "      <td>0</td>\n",
              "      <td>0</td>\n",
              "      <td>0</td>\n",
              "      <td>NaN</td>\n",
              "      <td>NaN</td>\n",
              "      <td>NaN</td>\n",
              "      <td>0</td>\n",
              "      <td>12</td>\n",
              "      <td>2008</td>\n",
              "      <td>WD</td>\n",
              "      <td>Normal</td>\n",
              "      <td>250000</td>\n",
              "    </tr>\n",
              "  </tbody>\n",
              "</table>\n",
              "<p>5 rows × 81 columns</p>\n",
              "</div>"
            ],
            "text/plain": [
              "   Id  MSSubClass MSZoning  ...  SaleType  SaleCondition SalePrice\n",
              "0   1          60       RL  ...        WD         Normal    208500\n",
              "1   2          20       RL  ...        WD         Normal    181500\n",
              "2   3          60       RL  ...        WD         Normal    223500\n",
              "3   4          70       RL  ...        WD        Abnorml    140000\n",
              "4   5          60       RL  ...        WD         Normal    250000\n",
              "\n",
              "[5 rows x 81 columns]"
            ]
          },
          "metadata": {
            "tags": []
          },
          "execution_count": 13
        }
      ]
    },
    {
      "cell_type": "code",
      "metadata": {
        "_uuid": "b1a1e8190a06fa50a33c5790b499d712e5016170",
        "scrolled": false,
        "id": "rIXwq9Hnj1UI",
        "colab_type": "code",
        "outputId": "04746967-4779-41a7-886f-47619de57926",
        "colab": {
          "base_uri": "https://localhost:8080/",
          "height": 50
        }
      },
      "source": [
        "#2. Find Num and Categorical variables.\n",
        "# Differentiate numerical features (minus the target) and categorical features\n",
        "print(\"Numerical features : \" + str(len(dataset.select_dtypes(exclude = [\"object\"]).columns)))\n",
        "print(\"Categorical features : \" + str(len(dataset.select_dtypes(include = [\"object\"]).columns)))"
      ],
      "execution_count": 14,
      "outputs": [
        {
          "output_type": "stream",
          "text": [
            "Numerical features : 38\n",
            "Categorical features : 43\n"
          ],
          "name": "stdout"
        }
      ]
    },
    {
      "cell_type": "code",
      "metadata": {
        "_uuid": "da6e331ccc44312cc7dab3fe552b89d596a8a953",
        "id": "6U9SFMxpj1UL",
        "colab_type": "code",
        "colab": {}
      },
      "source": [
        "# We will take only Numerical Features as of now:\n",
        "features = [] \n",
        "for i in dataset.select_dtypes(exclude = [\"object\"]).columns:\n",
        "        features.append(i)"
      ],
      "execution_count": 0,
      "outputs": []
    },
    {
      "cell_type": "code",
      "metadata": {
        "_uuid": "286382a69d2b1db5a4754d6e160c3948e367530d",
        "scrolled": true,
        "id": "GEAnX9lbj1UO",
        "colab_type": "code",
        "outputId": "fb93a288-99b8-4f97-a7da-abb10efb8bdd",
        "colab": {
          "base_uri": "https://localhost:8080/",
          "height": 689
        }
      },
      "source": [
        "#3. Find Most correlated variables with target feature.\n",
        "correlations=dataset[features].corr()\n",
        "print(\"All numerical features relative to target\")\n",
        "correlations.sort_values([\"SalePrice\"], ascending = False, inplace=True)\n",
        "correlations.SalePrice"
      ],
      "execution_count": 16,
      "outputs": [
        {
          "output_type": "stream",
          "text": [
            "All numerical features relative to target\n"
          ],
          "name": "stdout"
        },
        {
          "output_type": "execute_result",
          "data": {
            "text/plain": [
              "SalePrice        1.000000\n",
              "OverallQual      0.790982\n",
              "GrLivArea        0.708624\n",
              "GarageCars       0.640409\n",
              "GarageArea       0.623431\n",
              "TotalBsmtSF      0.613581\n",
              "1stFlrSF         0.605852\n",
              "FullBath         0.560664\n",
              "TotRmsAbvGrd     0.533723\n",
              "YearBuilt        0.522897\n",
              "YearRemodAdd     0.507101\n",
              "GarageYrBlt      0.486362\n",
              "MasVnrArea       0.477493\n",
              "Fireplaces       0.466929\n",
              "BsmtFinSF1       0.386420\n",
              "LotFrontage      0.351799\n",
              "WoodDeckSF       0.324413\n",
              "2ndFlrSF         0.319334\n",
              "OpenPorchSF      0.315856\n",
              "HalfBath         0.284108\n",
              "LotArea          0.263843\n",
              "BsmtFullBath     0.227122\n",
              "BsmtUnfSF        0.214479\n",
              "BedroomAbvGr     0.168213\n",
              "ScreenPorch      0.111447\n",
              "PoolArea         0.092404\n",
              "MoSold           0.046432\n",
              "3SsnPorch        0.044584\n",
              "BsmtFinSF2      -0.011378\n",
              "BsmtHalfBath    -0.016844\n",
              "MiscVal         -0.021190\n",
              "Id              -0.021917\n",
              "LowQualFinSF    -0.025606\n",
              "YrSold          -0.028923\n",
              "OverallCond     -0.077856\n",
              "MSSubClass      -0.084284\n",
              "EnclosedPorch   -0.128578\n",
              "KitchenAbvGr    -0.135907\n",
              "Name: SalePrice, dtype: float64"
            ]
          },
          "metadata": {
            "tags": []
          },
          "execution_count": 16
        }
      ]
    },
    {
      "cell_type": "code",
      "metadata": {
        "_uuid": "0b79983735d076e80f38ac6297e12d36fc9965b1",
        "id": "QxEaKcQKj1UR",
        "colab_type": "code",
        "colab": {}
      },
      "source": [
        "# Hence, the most important features:\n",
        "num_features = [\"SalePrice\",\"OverallQual\",\"GrLivArea\",\"GarageCars\",\"GarageArea\",\"TotalBsmtSF\",\"1stFlrSF\",\"FullBath\",\"TotRmsAbvGrd\",\"YearBuilt\",\"MasVnrArea\"]"
      ],
      "execution_count": 0,
      "outputs": []
    },
    {
      "cell_type": "code",
      "metadata": {
        "_uuid": "6fb88e2dab0cf464b53d752725a1c289f78985f3",
        "scrolled": true,
        "id": "jqssSKPQj1UU",
        "colab_type": "code",
        "outputId": "639e9341-3b28-468a-d66c-094b74b137bb",
        "colab": {
          "base_uri": "https://localhost:8080/",
          "height": 218
        }
      },
      "source": [
        "#4. Handle missing data of the most important features. \n",
        "dataset[num_features].isnull().sum()\n",
        "#dataset[dataset[\"MasVnrArea\"] = 0][\"MasVnrArea\"].describe()\n",
        "#dataset[\"MasVnrArea\"]"
      ],
      "execution_count": 18,
      "outputs": [
        {
          "output_type": "execute_result",
          "data": {
            "text/plain": [
              "SalePrice       0\n",
              "OverallQual     0\n",
              "GrLivArea       0\n",
              "GarageCars      0\n",
              "GarageArea      0\n",
              "TotalBsmtSF     0\n",
              "1stFlrSF        0\n",
              "FullBath        0\n",
              "TotRmsAbvGrd    0\n",
              "YearBuilt       0\n",
              "MasVnrArea      8\n",
              "dtype: int64"
            ]
          },
          "metadata": {
            "tags": []
          },
          "execution_count": 18
        }
      ]
    },
    {
      "cell_type": "code",
      "metadata": {
        "_uuid": "53645c2cc97186a2249db9b62e4ac8254744db9e",
        "id": "vjVs2S73j1UX",
        "colab_type": "code",
        "colab": {}
      },
      "source": [
        "dataset[\"MasVnrArea\"].fillna(dataset[\"MasVnrArea\"].mean(), inplace=True)\n",
        "test_dataset[\"MasVnrArea\"].fillna(dataset[\"MasVnrArea\"].mean(), inplace=True)"
      ],
      "execution_count": 0,
      "outputs": []
    },
    {
      "cell_type": "code",
      "metadata": {
        "_uuid": "aca0ffbf20519d8eb494eaa9fb6694612327cb30",
        "id": "__2faYrVj1Ub",
        "colab_type": "code",
        "outputId": "8ff4904c-a08a-4af5-dad5-0cdd994dee86",
        "colab": {
          "base_uri": "https://localhost:8080/",
          "height": 50
        }
      },
      "source": [
        "#5. Remove any Numerically categorical variable by replacing astype(object)\n",
        "#OverallQual is a Categorical Variable\"Rates the overall material and finish of the house\"\n",
        "# Hence, converting it to object\n",
        "num_cat_features = []\n",
        "#dataset.OverallQual=dataset.OverallQual.astype(object)\n",
        "num_cat_features.append(\"OverallQual\")\n",
        "#FullBath , \"Full bathrooms above grade\"\n",
        "#dataset.FullBath=dataset.FullBath.astype(object)\n",
        "num_cat_features.append(\"FullBath\")\n",
        "#TotRmsAbvGrd , \"Total rooms above grade (does not include bathrooms)\"\n",
        "#dataset.TotRmsAbvGrd=dataset.TotRmsAbvGrd.astype(object)\n",
        "num_cat_features.append(\"TotRmsAbvGrd\")\n",
        "#set(num_features).remove(num_cat_features)\n",
        "num_features = [i for i in num_features if i not in num_cat_features]\n",
        "print(\"Num_features are\", num_features)\n",
        "print(\"Num_categorical_features are which we need to add further\", num_cat_features)"
      ],
      "execution_count": 20,
      "outputs": [
        {
          "output_type": "stream",
          "text": [
            "Num_features are ['SalePrice', 'GrLivArea', 'GarageCars', 'GarageArea', 'TotalBsmtSF', '1stFlrSF', 'YearBuilt', 'MasVnrArea']\n",
            "Num_categorical_features are which we need to add further ['OverallQual', 'FullBath', 'TotRmsAbvGrd']\n"
          ],
          "name": "stdout"
        }
      ]
    },
    {
      "cell_type": "code",
      "metadata": {
        "id": "xI7xZMj4BTJx",
        "colab_type": "code",
        "outputId": "d3e4c3b8-2bea-48aa-e03b-8f2429912340",
        "colab": {
          "base_uri": "https://localhost:8080/",
          "height": 67
        }
      },
      "source": [
        "dataset[num_features].columns"
      ],
      "execution_count": 21,
      "outputs": [
        {
          "output_type": "execute_result",
          "data": {
            "text/plain": [
              "Index(['SalePrice', 'GrLivArea', 'GarageCars', 'GarageArea', 'TotalBsmtSF',\n",
              "       '1stFlrSF', 'YearBuilt', 'MasVnrArea'],\n",
              "      dtype='object')"
            ]
          },
          "metadata": {
            "tags": []
          },
          "execution_count": 21
        }
      ]
    },
    {
      "cell_type": "code",
      "metadata": {
        "_uuid": "7a60fbbd399b6422779942d83d6e4afb2c43a575",
        "id": "RYTA7TVFj1Ue",
        "colab_type": "code",
        "colab": {}
      },
      "source": [
        "#6. Handle the interrelated correlated variables.\n",
        "sns.set()\n",
        "sns.pairplot(dataset[num_features], size = 2.5)"
      ],
      "execution_count": 0,
      "outputs": []
    },
    {
      "cell_type": "code",
      "metadata": {
        "id": "Go6MMSmnzsgK",
        "colab_type": "code",
        "colab": {}
      },
      "source": [
        "# Function to create Shaded Pearson Correlation Matrix\n",
        "def prscorrmatrix(dataframe, col_array):\n",
        "  correlations = dataframe[col_array].corr()\n",
        "  mask = np.zeros_like(correlations, dtype = np.bool)\n",
        "  mask[np.triu_indices_from(mask)]=True\n",
        "  fig,ax = plt.subplots(figsize=(10,10))\n",
        "  plt.title(\"Pearson Correlation Matrix\", fontsize=30)\n",
        "  return sns.heatmap(correlations,vmax=1,square=True,annot=True,mask=mask)"
      ],
      "execution_count": 0,
      "outputs": []
    },
    {
      "cell_type": "code",
      "metadata": {
        "id": "_c3rwvVJ043J",
        "colab_type": "code",
        "outputId": "fb09c7c4-3219-4e05-d6ee-7de51bab888f",
        "colab": {
          "base_uri": "https://localhost:8080/",
          "height": 624
        }
      },
      "source": [
        "prscorrmatrix(dataset, num_features)"
      ],
      "execution_count": 23,
      "outputs": [
        {
          "output_type": "execute_result",
          "data": {
            "text/plain": [
              "<matplotlib.axes._subplots.AxesSubplot at 0x7f48df71ba20>"
            ]
          },
          "metadata": {
            "tags": []
          },
          "execution_count": 23
        },
        {
          "output_type": "display_data",
          "data": {
            "image/png": "[encoded data removed]",
            "text/plain": [
              "<Figure size 720x720 with 2 Axes>"
            ]
          },
          "metadata": {
            "tags": []
          }
        }
      ]
    },
    {
      "cell_type": "code",
      "metadata": {
        "_uuid": "0e00b3c02597a730e32747e25e4d2976859697f4",
        "id": "DokCitqQj1Uk",
        "colab_type": "code",
        "colab": {}
      },
      "source": [
        "# We see, Garage Cars and Garage Area - Intercorrelated, Hence we will take only GarageArea, it seems more continuous\n",
        "# We see, 1stFlrSF and TotalBsmtSF - Intercorrelated, Hence we will take only TotalBsmtSF, it seems more continuous\n",
        "num_features = ['SalePrice', 'GrLivArea', 'GarageArea', 'TotalBsmtSF','MasVnrArea', 'YearBuilt']"
      ],
      "execution_count": 0,
      "outputs": []
    },
    {
      "cell_type": "code",
      "metadata": {
        "_uuid": "4dd3a3e70db2d0bb9dee15b8624cb595c14eeef5",
        "id": "N2vXRzdZj1Um",
        "colab_type": "code",
        "colab": {}
      },
      "source": [
        "#7. Apart from ID, check the skewness of the varibales, if they found, handle them.\n",
        "#Draw skew graphs of all features\n",
        "#sns.distplot(np.log1p(dataset[dataset[\"MasVnrArea\"] != 0][\"MasVnrArea\"]))\n",
        "#skew(np.log1p(dataset[\"MasVnrArea\"]))"
      ],
      "execution_count": 0,
      "outputs": []
    },
    {
      "cell_type": "code",
      "metadata": {
        "_uuid": "aadc5b8e2e812dbed512a1e5891f4f5c0ac3653f",
        "id": "gCqAJvaKj1Up",
        "colab_type": "code",
        "colab": {}
      },
      "source": [
        "from scipy.stats import skew\n",
        "for i,col in enumerate(dataset[num_features].columns):\n",
        "        plt.figure()\n",
        "        sns.distplot(dataset[col])\n",
        "        print(\"The skewkness factor for\",col,\"is\", skew(dataset[col]))\n",
        "#skew(dataset[\"SalePrice\"])"
      ],
      "execution_count": 0,
      "outputs": []
    },
    {
      "cell_type": "markdown",
      "metadata": {
        "_uuid": "3cef3fdf67feae3f797bd92127148fafdce4d54e",
        "id": "8v-N7CbGj1Us",
        "colab_type": "text"
      },
      "source": [
        "**From the above target data info, we see that the data is right skewed.If the dataset skewed, then the ML model wouldn’t \n",
        "be able to do a good job of prediction. For skewed dist data, the predicted values would also be skewed.The best way to fix it is to perform a log transform of the same data, with the intent to reduce the skewness.**"
      ]
    },
    {
      "cell_type": "code",
      "metadata": {
        "_uuid": "90af6b669acff3188e6f78869812e0f5906cd1ea",
        "id": "kkjFh7rcj1Ut",
        "colab_type": "code",
        "colab": {}
      },
      "source": [
        "for i,col in enumerate(dataset[num_features].columns):\n",
        "        plt.figure()\n",
        "        sns.distplot(np.log1p(dataset[col]))\n",
        "        print(\"The updated skewkness factor for\",col,\"after applied log is\", skew(np.log1p(dataset[col])))"
      ],
      "execution_count": 0,
      "outputs": []
    },
    {
      "cell_type": "code",
      "metadata": {
        "_uuid": "94b6dbd09df5b86a26fc8da2b352431b4462f6b1",
        "id": "dfQOKYPCj1Uv",
        "colab_type": "code",
        "colab": {}
      },
      "source": [
        "# By checking the above results, We will apply skew to the following features:\n",
        "#SalePrice, GrLivArea, MasVnrArea\n",
        "dataset[\"SalePrice\"] = np.log1p(dataset[\"SalePrice\"])\n",
        "dataset[\"GrLivArea\"] = np.log1p(dataset[\"GrLivArea\"])\n",
        "dataset[\"MasVnrArea\"] = np.log1p(dataset[\"MasVnrArea\"])\n",
        "\n",
        "test_dataset[\"GrLivArea\"] = np.log1p(test_dataset[\"GrLivArea\"])\n",
        "test_dataset[\"MasVnrArea\"] = np.log1p(test_dataset[\"MasVnrArea\"])"
      ],
      "execution_count": 0,
      "outputs": []
    },
    {
      "cell_type": "code",
      "metadata": {
        "_uuid": "5bdf28151dc98051fcb0845064c926af0a03b857",
        "id": "fgtOtTVEj1Uy",
        "colab_type": "code",
        "colab": {}
      },
      "source": [
        "def adjustedR2(r2,n,k):\n",
        "    # return r2 - (k - 1)/(n - k)*(1 - r2)\n",
        "    return 1 - ((1 - r2)*(n - 1) / (n - k - 1))"
      ],
      "execution_count": 0,
      "outputs": []
    },
    {
      "cell_type": "code",
      "metadata": {
        "_uuid": "138aea4aa17ad5fcbd490f3cc61f6d92509124b8",
        "id": "GXTk8Lp6j1U1",
        "colab_type": "code",
        "colab": {}
      },
      "source": [
        "#evaluation.drop(evaluation[evaluation.Model==\"Polynomial Linear-3, CV=10\"].index, inplace=True)"
      ],
      "execution_count": 0,
      "outputs": []
    },
    {
      "cell_type": "code",
      "metadata": {
        "_uuid": "4f6abd3ab7e4501f2e44cab8d15680ac1e67e6a2",
        "id": "SNe0cbNqj1U4",
        "colab_type": "code",
        "colab": {}
      },
      "source": [
        "from sklearn.model_selection import train_test_split\n",
        "train_data,test_data = train_test_split(dataset[num_features],test_size=0.2,random_state=42)"
      ],
      "execution_count": 0,
      "outputs": []
    },
    {
      "cell_type": "code",
      "metadata": {
        "_uuid": "71ee6b193d907e5dd9a05de747633998ccd392e2",
        "id": "w65zUFmQj1U6",
        "colab_type": "code",
        "colab": {}
      },
      "source": [
        "X_train = train_data.iloc[:,1:].values\n",
        "y_train = train_data[\"SalePrice\"].values\n",
        "X_test = test_data.iloc[:,1:].values\n",
        "y_test = test_data[\"SalePrice\"].values"
      ],
      "execution_count": 0,
      "outputs": []
    },
    {
      "cell_type": "code",
      "metadata": {
        "_uuid": "534ea79596ca242445651406f3568015d8f90e56",
        "id": "iNLEOCrIj1U8",
        "colab_type": "code",
        "outputId": "457ed11b-7361-4777-e295-37dd9cf98b99",
        "colab": {
          "base_uri": "https://localhost:8080/",
          "height": 50
        }
      },
      "source": [
        "print(X_train.shape,y_train.shape)\n",
        "print(X_test.shape,y_test.shape)"
      ],
      "execution_count": 55,
      "outputs": [
        {
          "output_type": "stream",
          "text": [
            "(1168, 5) (1168,)\n",
            "(292, 5) (292,)\n"
          ],
          "name": "stdout"
        }
      ]
    },
    {
      "cell_type": "code",
      "metadata": {
        "id": "e2fI75B81Ocq",
        "colab_type": "code",
        "colab": {}
      },
      "source": [
        "def get_validation_curve(dataset, features_array):\n",
        "  from sklearn.model_selection import train_test_split\n",
        "  from sklearn.metrics import mean_squared_error\n",
        "  from sklearn.linear_model import LinearRegression\n",
        "\n",
        "  train_data,test_data = train_test_split(dataset[features_array],test_size=0.4,random_state=42)\n",
        "  X_train = train_data.iloc[:,1:].values\n",
        "  y_train = train_data[\"SalePrice\"].values\n",
        "  X_test = test_data.iloc[:,1:].values\n",
        "  y_test = test_data[\"SalePrice\"].values\n",
        "\n",
        "  linreg  = LinearRegression()\n",
        "\n",
        "  train_error = []\n",
        "  validation_error = []\n",
        "\n",
        "  for i in range(1, len(X_train)):\n",
        "    linreg.fit(X_train[:i], y_train[:i])\n",
        "    y_train_pred = linreg.predict(X_train[:i])\n",
        "    train_error.append(np.sqrt(mean_squared_error(y_train_pred, y_train[:i])))\n",
        "    y_test_pred = linreg.predict(X_test)\n",
        "    validation_error.append(np.sqrt(mean_squared_error(y_test_pred, y_test)))\n",
        "\n",
        "  plt.figure(figsize=(12,8))\n",
        "  plt.plot( train_error, label = \"TRAINING ERROR\")\n",
        "  plt.plot( validation_error,label = \"VALIDATION ERROR\")\n",
        "  plt.legend()\n",
        "  print(\"Training Error is \", np.mean(train_error))\n",
        "  print(\"Validation Error is \", np.mean(validation_error))\n",
        "  return plt.show()\n"
      ],
      "execution_count": 0,
      "outputs": []
    },
    {
      "cell_type": "code",
      "metadata": {
        "id": "lfwj_J4KTEvI",
        "colab_type": "code",
        "colab": {
          "base_uri": "https://localhost:8080/",
          "height": 535
        },
        "outputId": "4744e335-6a6b-4716-fb09-2d84f7feaddc"
      },
      "source": [
        "num_features = ['SalePrice' \n",
        "                 ,'GrLivArea'\n",
        "                  ,'GarageArea'\n",
        "                  ,'TotalBsmtSF'\n",
        "                  ,'MasVnrArea'\n",
        "                  ,'YearBuilt'\n",
        "                 ]\n",
        "print(num_features)\n",
        "get_validation_curve(dataset,num_features)"
      ],
      "execution_count": 30,
      "outputs": [
        {
          "output_type": "stream",
          "text": [
            "['SalePrice', 'GrLivArea', 'GarageArea', 'TotalBsmtSF', 'MasVnrArea', 'YearBuilt']\n",
            "Training Error is  0.20005101954782936\n",
            "Validation Error is  0.19411364723635702\n"
          ],
          "name": "stdout"
        },
        {
          "output_type": "display_data",
          "data": {
            "image/png": "[encoded data removed]",
            "text/plain": [
              "<Figure size 864x576 with 1 Axes>"
            ]
          },
          "metadata": {
            "tags": []
          }
        }
      ]
    },
    {
      "cell_type": "code",
      "metadata": {
        "id": "8Fh3LwXnnKvG",
        "colab_type": "code",
        "colab": {
          "base_uri": "https://localhost:8080/",
          "height": 50
        },
        "outputId": "25237385-ef5e-4416-afd3-444bb5f4ad07"
      },
      "source": [
        "# To Avoid Overfitting in Linear Regression, we use below Regression Technique:\n",
        "#1. L1 Ridge/Tikhonov Regression\n",
        "#2. L2 Lasso Regression\n",
        "#3. Elastic Net\n",
        "\n",
        "from sklearn.linear_model import Ridge\n",
        "from sklearn.metrics import mean_squared_error\n",
        "# alpha = np.linspace(-2,2,num=100)\n",
        "ridge = Ridge(alpha=0.000000001)\n",
        "ridge.fit(X_train,y_train)\n",
        "print(ridge.score(X_train,y_train))\n",
        "\n",
        "from sklearn.linear_model import Lasso\n",
        "from sklearn.metrics import mean_squared_error\n",
        "# alpha = np.linspace(-2,2,num=100)\n",
        "lasso = Lasso(alpha=100)\n",
        "lasso.fit(X_train,y_train)\n",
        "print(lasso.score(X_train,y_train))"
      ],
      "execution_count": 72,
      "outputs": [
        {
          "output_type": "stream",
          "text": [
            "0.764931210128364\n",
            "0.018579082450326134\n"
          ],
          "name": "stdout"
        }
      ]
    },
    {
      "cell_type": "code",
      "metadata": {
        "_uuid": "157f407d1da288832b92eb37e455f0cded43c17e",
        "id": "yIIMupR9j1VD",
        "colab_type": "code",
        "colab": {}
      },
      "source": [
        "from sklearn.metrics import r2_score\n",
        "R2_test_pred = r2_score(y_test,y_pred)\n",
        "rmse = np.sqrt(metrics.mean_squared_error(y_test,y_pred))\n",
        "R2_score_train = accuracies.mean()\n",
        "Adj_R2_array= []\n",
        "for i in accuracies:\n",
        "    Adj_R2_array.append(adjustedR2(i,X_train.shape[0],X_train.shape[1]))\n",
        "Adj_R2_array = np.asarray(Adj_R2_array)\n",
        "Adj_R2 = Adj_R2_array.mean()\n",
        "VARIANCE = accuracies.std()\n",
        "evaluation=evaluation.append({\"Model\":\"Multivariate Linear, CV=10\",\"Details\":\"\",\"RMSE\":rmse, \"R2-train\":R2_score_train,\"Adj-R2-train\":Adj_R2,\"R2-test-pred\":R2_test_pred,\"Adj-R2-test\":\"\",\"RMSLE\":\"\",\"VARIANCE\":VARIANCE},ignore_index=True)"
      ],
      "execution_count": 0,
      "outputs": []
    },
    {
      "cell_type": "code",
      "metadata": {
        "_uuid": "d7bacdab59fff156b1690136fc7f0783018a6f62",
        "id": "hFFxu0V3j1VF",
        "colab_type": "code",
        "outputId": "956aa28d-ea2b-4594-b088-b0af5b94607d",
        "colab": {
          "base_uri": "https://localhost:8080/",
          "height": 285
        }
      },
      "source": [
        "plt.plot(np.logspace(-10,-2,num=100))"
      ],
      "execution_count": 47,
      "outputs": [
        {
          "output_type": "execute_result",
          "data": {
            "text/plain": [
              "[<matplotlib.lines.Line2D at 0x7f48d93615f8>]"
            ]
          },
          "metadata": {
            "tags": []
          },
          "execution_count": 47
        },
        {
          "output_type": "display_data",
          "data": {
            "image/png": "[encoded data removed]",
            "text/plain": [
              "<Figure size 432x288 with 1 Axes>"
            ]
          },
          "metadata": {
            "tags": []
          }
        }
      ]
    },
    {
      "cell_type": "code",
      "metadata": {
        "_uuid": "75c2fae7533f6e67f2d3f98b93e6bdfe430565eb",
        "id": "gXcjnKq0j1VI",
        "colab_type": "code",
        "colab": {}
      },
      "source": [
        "evaluation"
      ],
      "execution_count": 0,
      "outputs": []
    },
    {
      "cell_type": "code",
      "metadata": {
        "_uuid": "ea731de163485204021f08b9049e28921db49cd3",
        "id": "zBrhEQDGj1VK",
        "colab_type": "code",
        "colab": {}
      },
      "source": [
        "# Lets have a Polynomial Linear Regression\n",
        "from sklearn.preprocessing import PolynomialFeatures\n",
        "polyreg = PolynomialFeatures(degree = 3)\n",
        "X_train = train_data.iloc[:,1:].values\n",
        "y_train = train_data[\"SalePrice\"].values\n",
        "X_test = test_data.iloc[:,1:].values\n",
        "y_test = test_data[\"SalePrice\"].values\n",
        "\n",
        "X_poly_train = polyreg.fit_transform(X_train) \n",
        "X_poly_test = polyreg.fit_transform(X_test)"
      ],
      "execution_count": 0,
      "outputs": []
    },
    {
      "cell_type": "code",
      "metadata": {
        "_uuid": "f6676d734f0bdd7c9370e5f4ac1cb1150cc95744",
        "id": "L7TWYCL3j1VM",
        "colab_type": "code",
        "colab": {}
      },
      "source": [
        "from sklearn.linear_model import LinearRegression\n",
        "linreg = LinearRegression()\n",
        "\n",
        "from sklearn.model_selection import cross_val_score\n",
        "#score = 'mean_absolute_error'\n",
        "accuracies = cross_val_score(linreg,X=X_poly_train,y=y_train, cv=10)\n",
        "linreg.fit(X_poly_train,y_train)\n",
        "y_pred = linreg.predict(X_poly_test)\n"
      ],
      "execution_count": 0,
      "outputs": []
    },
    {
      "cell_type": "code",
      "metadata": {
        "_uuid": "ad0a057e3f9a7ac521b210848455a760e7bbed22",
        "id": "IJ5W0Si1j1VP",
        "colab_type": "code",
        "colab": {}
      },
      "source": [
        "from sklearn.metrics import r2_score\n",
        "R2_test_pred = r2_score(y_test,y_pred)\n",
        "rmse = np.sqrt(metrics.mean_squared_error(y_test,y_pred))\n",
        "R2_score_train = accuracies.mean()\n",
        "Adj_R2_array= []\n",
        "for i in accuracies:\n",
        "    Adj_R2_array.append(adjustedR2(i,X_train.shape[0],X_train.shape[1]))\n",
        "Adj_R2_array = np.asarray(Adj_R2_array)\n",
        "Adj_R2 = Adj_R2_array.mean()\n",
        "VARIANCE = accuracies.std()\n",
        "evaluation=evaluation.append({\"Model\":\"Polynomial Linear-3, CV=10\",\"Details\":\"\",\"RMSE\":rmse, \"R2-train\":R2_score_train,\"Adj-R2-train\":Adj_R2,\"R2-test-pred\":R2_test_pred,\"Adj-R2-test\":\"\",\"RMSLE\":\"\",\"VARIANCE\":VARIANCE},ignore_index=True)"
      ],
      "execution_count": 0,
      "outputs": []
    },
    {
      "cell_type": "code",
      "metadata": {
        "_uuid": "61eaa37d87be9c4fc4453b122cbbbf02353cbfc3",
        "id": "JQvDklZlj1VR",
        "colab_type": "code",
        "colab": {}
      },
      "source": [
        "evaluation"
      ],
      "execution_count": 0,
      "outputs": []
    },
    {
      "cell_type": "code",
      "metadata": {
        "_uuid": "8562ee3f257ff461cb50c3b24eafb7b242a2d8f3",
        "id": "iegXs5HLj1VT",
        "colab_type": "code",
        "colab": {}
      },
      "source": [
        "# WE WILL EVALUATE XGBOOST MODEL\n",
        "from xgboost import XGBClassifier\n",
        "xgb = XGBClassifier()\n",
        "X_train = train_data.iloc[:,1:].values\n",
        "y_train = train_data[\"SalePrice\"].values\n",
        "X_test = test_data.iloc[:,1:].values\n",
        "y_test = test_data[\"SalePrice\"].values\n",
        "xgb.fit(X_train,y_train)\n",
        "y_pred = xgb.predict(X_test)"
      ],
      "execution_count": 0,
      "outputs": []
    },
    {
      "cell_type": "code",
      "metadata": {
        "_uuid": "e1f53b5f5e42c723274b859d52860fd9c2a03bd9",
        "id": "JywWmfYgj1VW",
        "colab_type": "code",
        "colab": {}
      },
      "source": [
        "from sklearn.metrics import r2_score\n",
        "R2_test_pred = r2_score(y_test,y_pred)\n",
        "rmse = np.sqrt(metrics.mean_squared_error(y_test,y_pred))\n",
        "R2_score_train = accuracies.mean()\n",
        "Adj_R2_array= []\n",
        "for i in accuracies:\n",
        "    Adj_R2_array.append(adjustedR2(i,X_train.shape[0],X_train.shape[1]))\n",
        "Adj_R2_array = np.asarray(Adj_R2_array)\n",
        "Adj_R2 = Adj_R2_array.mean()\n",
        "VARIANCE = accuracies.std()\n",
        "evaluation=evaluation.append({\"Model\":\"XGBoost\",\"Details\":\"\",\"RMSE\":rmse, \"R2-train\":R2_score_train,\"Adj-R2-train\":Adj_R2,\"R2-test-pred\":R2_test_pred,\"Adj-R2-test\":\"\",\"RMSLE\":\"\",\"VARIANCE\":VARIANCE},ignore_index=True)"
      ],
      "execution_count": 0,
      "outputs": []
    },
    {
      "cell_type": "code",
      "metadata": {
        "_uuid": "bf8ee6cdc11c757bbb5ab39d20d22ec95d0800ce",
        "id": "2UnUWsAKj1VY",
        "colab_type": "code",
        "colab": {}
      },
      "source": [
        "evaluation"
      ],
      "execution_count": 0,
      "outputs": []
    },
    {
      "cell_type": "code",
      "metadata": {
        "_uuid": "65afb351eb6a42ccf62930009b4504ea28f1d878",
        "id": "AhUbY-gij1Vb",
        "colab_type": "code",
        "colab": {}
      },
      "source": [
        "# SO XGBoost seems to have better prediction, we will take this model.\n",
        "test_dataset = pd.read_csv(\"../input/test.csv\")\n",
        "#test_dataset1=test_dataset[features1]\n",
        "#test_dataset1.head()"
      ],
      "execution_count": 0,
      "outputs": []
    },
    {
      "cell_type": "code",
      "metadata": {
        "_uuid": "8b4939873a649e0e1369e514adecebd0c2d54402",
        "id": "F4B4yWHrj1Vd",
        "colab_type": "code",
        "colab": {}
      },
      "source": [
        "test_dataset[num_features[1:]].isnull().sum()"
      ],
      "execution_count": 0,
      "outputs": []
    },
    {
      "cell_type": "code",
      "metadata": {
        "_uuid": "c647853bbcc6c41d5a6414edc274fa0dbafd48ec",
        "id": "fzvWIZC2j1Vg",
        "colab_type": "code",
        "colab": {}
      },
      "source": [
        "test_dataset[\"GarageArea\"].fillna(test_dataset[\"GarageArea\"].mean(), inplace=True)\n",
        "test_dataset[\"TotalBsmtSF\"].fillna(test_dataset[\"TotalBsmtSF\"].mean(), inplace=True)\n",
        "test_dataset[\"MasVnrArea\"].fillna(test_dataset[\"MasVnrArea\"].mean(), inplace=True)"
      ],
      "execution_count": 0,
      "outputs": []
    },
    {
      "cell_type": "code",
      "metadata": {
        "_uuid": "9bb00e824a693ea7b8c1ef58b788bea366671e96",
        "id": "bCEqzXZOj1Vi",
        "colab_type": "code",
        "colab": {}
      },
      "source": [
        "from sklearn.preprocessing import PolynomialFeatures\n",
        "polyreg = PolynomialFeatures(degree = 2)\n",
        "X_train = train_data.iloc[:,1:].values\n",
        "y_train = train_data[\"SalePrice\"].values\n",
        "\n",
        "X_test = test_dataset[num_features[1:]].values\n",
        "\n",
        "X_poly_train = polyreg.fit_transform(X_train) \n",
        "X_poly_test = polyreg.fit_transform(X_test)\n",
        "\n",
        "from sklearn.linear_model import LinearRegression\n",
        "linreg = LinearRegression()\n",
        "from sklearn.model_selection import cross_val_score\n",
        "#score = 'mean_absolute_error'\n",
        "accuracies = cross_val_score(linreg,X=X_poly_train,y=y_train, cv=10)\n",
        "linreg.fit(X_poly_train,y_train)\n",
        "\n",
        "y_pred = linreg.predict(X_poly_test)"
      ],
      "execution_count": 0,
      "outputs": []
    },
    {
      "cell_type": "code",
      "metadata": {
        "_uuid": "93a9d1021f1a9727ad2b484f44c97e328d7f4672",
        "id": "MoC8VA3tj1Vm",
        "colab_type": "code",
        "colab": {}
      },
      "source": [
        "test_dataset[num_features[1:]].isnull().sum()"
      ],
      "execution_count": 0,
      "outputs": []
    },
    {
      "cell_type": "code",
      "metadata": {
        "_uuid": "a715ddd16e5b3b6a37341f2b07e9ba1ff1dbda72",
        "id": "PmZtlsgfj1Vo",
        "colab_type": "code",
        "colab": {}
      },
      "source": [
        "test_dataset[num_features[1:]].isnull().sum()"
      ],
      "execution_count": 0,
      "outputs": []
    },
    {
      "cell_type": "code",
      "metadata": {
        "_uuid": "cd0d75e5d5fa15dd0ca010c6fdb2d6ff94aa8abe",
        "id": "dJoQ_-YUj1Vr",
        "colab_type": "code",
        "colab": {}
      },
      "source": [
        "#Remember how we transformed the SalePrice by taking a log of all the prices, Well, now we need to change that back to the original scale. \n",
        "#submission_predictions = np.exp(y_pred)\n",
        "submission_predictions=[]\n",
        "for i in y_pred:\n",
        "    submission_predictions.append(np.exp(i))"
      ],
      "execution_count": 0,
      "outputs": []
    },
    {
      "cell_type": "code",
      "metadata": {
        "_uuid": "0a8e69efade5d8fcadbac065a0362d76c03e8830",
        "id": "qnDCLZ9Gj1Vu",
        "colab_type": "code",
        "colab": {}
      },
      "source": [
        "submission_predictions"
      ],
      "execution_count": 0,
      "outputs": []
    },
    {
      "cell_type": "code",
      "metadata": {
        "_uuid": "27570cc927ed22a6ae47f89cfb40712714513271",
        "id": "2rvi_yT8j1Vy",
        "colab_type": "code",
        "colab": {}
      },
      "source": [
        "submit = pd.DataFrame({\n",
        "'Id': test_dataset[\"Id\"],\n",
        "'SalePrice': submission_predictions})\n"
      ],
      "execution_count": 0,
      "outputs": []
    },
    {
      "cell_type": "code",
      "metadata": {
        "_uuid": "7967a5bc2e07f494a8bee370e96f5ddc76f22444",
        "id": "qMY1SP9Jj1V0",
        "colab_type": "code",
        "colab": {}
      },
      "source": [
        "submit[\"SalePrice\"] = submit[\"SalePrice\"].round(3)"
      ],
      "execution_count": 0,
      "outputs": []
    },
    {
      "cell_type": "code",
      "metadata": {
        "_uuid": "3d52edef16d4ac7e9fd9ce32966f97d991d6ba87",
        "id": "si-0qoVHj1V3",
        "colab_type": "code",
        "colab": {}
      },
      "source": [
        "submit.to_csv('../Documents\\ForDataScience\\MachineLearning\\Practice\\Dataset\\Housing-Competition\\price-Imp.csv', index=False)"
      ],
      "execution_count": 0,
      "outputs": []
    },
    {
      "cell_type": "code",
      "metadata": {
        "_uuid": "30f964d11d3fbc4da162a6b7c00e2179aa7ee97b",
        "id": "lgZGi90Sj1V6",
        "colab_type": "code",
        "colab": {}
      },
      "source": [
        "submit"
      ],
      "execution_count": 0,
      "outputs": []
    },
    {
      "cell_type": "code",
      "metadata": {
        "_uuid": "56dd6997dc5abb54b2acb8ef724823814284e1e8",
        "id": "XQheEae1j1V8",
        "colab_type": "code",
        "colab": {}
      },
      "source": [
        "submission_predictions"
      ],
      "execution_count": 0,
      "outputs": []
    },
    {
      "cell_type": "code",
      "metadata": {
        "_uuid": "0933e46694381a1e3c65073f77898fa5f1f56062",
        "id": "wLCofb2_j1V-",
        "colab_type": "code",
        "colab": {}
      },
      "source": [
        ""
      ],
      "execution_count": 0,
      "outputs": []
    }
  ]
}